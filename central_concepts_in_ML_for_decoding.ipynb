{
  "nbformat": 4,
  "nbformat_minor": 0,
  "metadata": {
    "colab": {
      "name": "central_concepts_in_ML_for_decoding.ipynb",
      "provenance": [],
      "collapsed_sections": [],
      "include_colab_link": true
    },
    "kernelspec": {
      "name": "python3",
      "display_name": "Python 3"
    },
    "accelerator": "GPU"
  },
  "cells": [
    {
      "cell_type": "markdown",
      "metadata": {
        "id": "view-in-github",
        "colab_type": "text"
      },
      "source": [
        "<a href=\"https://colab.research.google.com/github/donw7/neural_activity_models_DNNs/blob/main/central_concepts_in_ML_for_decoding.ipynb\" target=\"_parent\"><img src=\"https://colab.research.google.com/assets/colab-badge.svg\" alt=\"Open In Colab\"/></a>"
      ]
    },
    {
      "cell_type": "markdown",
      "metadata": {
        "id": "w2FCVtm3EhuL"
      },
      "source": [
        "# Decoding neural activity\n",
        "_Machine learning for mind reading_\n",
        "\n",
        "This tutorial introduces concepts that are central to the practice of decoding neural activity using machine learning (or any method). We will make heavy use of our [Python package for neural decoding](https://github.com/KordingLab/Neural_Decoding).\n",
        "\n",
        "This tutorial accompanies these [lecture slides](https://).\n",
        "\n",
        "The solutions to the exercises can be found in [this completed Colab](https://colab.research.google.com/drive/1SxXwmTgW2Ro34BQEy91zOXHs9JhMqcBJ).\n",
        "\n",
        "### Outline\n",
        "\n",
        "1. Overfitting\n",
        "2. Crossvalidation\n",
        "3. Regularization\n",
        "4. Applying recurrent neural networks\n",
        "5. What methods work best and when?"
      ]
    },
    {
      "cell_type": "markdown",
      "metadata": {
        "id": "ufp0LsaTwe5B"
      },
      "source": [
        "## Preliminaries\n",
        "\n",
        "Import modules and simulate data"
      ]
    },
    {
      "cell_type": "code",
      "metadata": {
        "id": "ih_NKq_Xn98m",
        "pycharm": {
          "is_executing": true
        }
      },
      "source": [
        "import numpy as np\n",
        "from matplotlib import pyplot as plt\n",
        "import sklearn\n",
        "\n",
        "import time\n",
        "import torch\n",
        "import random\n",
        "import numpy as np\n",
        "import pandas as pd\n",
        "import matplotlib.pyplot as plt\n",
        "\n",
        "from torch import nn\n",
        "from torchvision import datasets\n",
        "from torchvision.transforms import ToTensor\n",
        "from torch.utils.data import DataLoader"
      ],
      "execution_count": 1,
      "outputs": []
    },
    {
      "cell_type": "markdown",
      "metadata": {
        "id": "6zqKK3iOwK6X"
      },
      "source": [
        "### Let's simulate some data"
      ]
    },
    {
      "cell_type": "code",
      "metadata": {
        "id": "aKOAseCQmd5U"
      },
      "source": [
        "# Generate some fake trial data\n",
        "n_trials = 250\n",
        "n_neurons = 10\n",
        "n_bins_per_trial = 50\n",
        "\n",
        "# And generate some fake neural recordings\n",
        "# We'll pretend we have a drift diffusion model\n",
        "\n",
        "def generate_neural_data(n_trials, n_neurons = 25, n_bins_per_trial = 50,\n",
        "                         noise_variance = 1, drift_rate = 0.07,\n",
        "                         mean_rate = 25):\n",
        "  \"\"\"Generates fake neural data of shape (n_trials, n_neurons, n_bins_per_trial\n",
        "        according to a drift diffusion process with given parameters.\n",
        "     Also generates decisions, which is 0 or 1 depending on the \"animal's decision\"\n",
        "        and is returned as an array of shape (n_trials,) \n",
        "        \n",
        "    Returns: (neural_data, decisions)\n",
        "  \"\"\"\n",
        "\n",
        "  decisions = np.random.binomial(1,.5,size = n_trials)\n",
        "  \n",
        "  neural_recordings = np.zeros((n_trials,n_neurons,n_bins_per_trial))\n",
        "\n",
        "  for t in range(n_bins_per_trial):\n",
        "    if t==0:\n",
        "      neural_recordings[:,:,t] = mean_rate + np.random.randn(n_trials,n_neurons) * noise_variance\n",
        "    else:\n",
        "      neural_recordings[:,:,t] = neural_recordings[:,:,t-1] \\\n",
        "                      + np.reshape(drift_rate*(decisions*2-1),(len(decisions),1)) \\\n",
        "                      + np.random.randn(n_trials,n_neurons) * noise_variance\n",
        "      \n",
        "  return neural_recordings, decisions\n",
        "\n",
        "neural_recordings, decisions = generate_neural_data(n_trials, \n",
        "                                         n_neurons, n_bins_per_trial)"
      ],
      "execution_count": 2,
      "outputs": []
    },
    {
      "cell_type": "code",
      "metadata": {
        "id": "bN82ZMD7q0X1",
        "outputId": "9cdc9106-45db-4bb8-b739-da527796f153",
        "colab": {
          "base_uri": "https://localhost:8080/",
          "height": 351
        }
      },
      "source": [
        "# plot out some trials for one neuron\n",
        "\n",
        "neuron_id = 0\n",
        "\n",
        "plt.figure(figsize=(10,5))\n",
        "plt.plot(np.arange(0,500,10),neural_recordings[:10,neuron_id,:].T)\n",
        "plt.xlabel(\"Time (ms)\")\n",
        "plt.ylabel(\"Spike rate (Hz)\")\n",
        "plt.legend([\"Trial {}\".format(i) for i in range(1,6)])"
      ],
      "execution_count": 3,
      "outputs": [
        {
          "output_type": "execute_result",
          "data": {
            "text/plain": [
              "<matplotlib.legend.Legend at 0x7f6791e9b150>"
            ]
          },
          "metadata": {},
          "execution_count": 3
        },
        {
          "output_type": "display_data",
          "data": {
            "image/png": "[encoded data removed]",
            "text/plain": [
              "<Figure size 720x360 with 1 Axes>"
            ]
          },
          "metadata": {
            "needs_background": "light"
          }
        }
      ]
    },
    {
      "cell_type": "markdown",
      "metadata": {
        "id": "euk_r7MYJ9PS"
      },
      "source": [
        "#### Exercise 0: Look at the distribution of neural activity \n",
        "\n",
        "Let's gain an intuition for the data. Plot out the average neural activity for each of the two choices. \n",
        "\n",
        "Average across trials **and** neurons — we're going to assume they have the same response properties. Then, plot out the averages for trials with a choices of 0 vs a choice of 1.\n",
        "\n",
        "If you have extra time, overlay the standard deviations."
      ]
    },
    {
      "cell_type": "code",
      "metadata": {
        "id": "3r6MNcOQN7Kc"
      },
      "source": [
        ""
      ],
      "execution_count": 3,
      "outputs": []
    },
    {
      "cell_type": "markdown",
      "metadata": {
        "id": "JhQtKkGZgrvB"
      },
      "source": [
        "## 1. Overfitting\n",
        "\n",
        "<img src='https://cdn-images-1.medium.com/max/1600/1*SBUK2QEfCP-zvJmKm14wGQ.png' />\n",
        "\n",
        "In common parlance, we call a classifier or regressor 'overfit' when it has learned to explain noise in the training set at the expense of its ability to generalize to new data.\n",
        "\n",
        "In that one-sentence description, we invoked the concepts of _training set_ and _generalization_. These are absolutely key to any modeling effort, including decoding.\n",
        "\n",
        "##### Training sets vs. testing sets\n",
        "You need to train your decoder, obviously, and for that you'll need training data. No one cares how well your decoder works on your training data, though. What we care about is its _performance on data not used for training_.  That is, we are interested in how well your decoder **generalizes** to new data. The only way to rigorously know how well your decoder generalizes is to test it on data not used for training. "
      ]
    },
    {
      "cell_type": "code",
      "metadata": {
        "id": "8ge2NEhXUD8E"
      },
      "source": [
        "from sklearn import linear_model"
      ],
      "execution_count": 4,
      "outputs": []
    },
    {
      "cell_type": "code",
      "metadata": {
        "id": "u1EhoS2kgsZT",
        "outputId": "ed502b9a-23b7-4c90-abfc-e27b6fdcdb00",
        "colab": {
          "base_uri": "https://localhost:8080/",
          "height": 0
        }
      },
      "source": [
        "## Fit a decoder using all your data\n",
        "\n",
        "# We'll predict each decision using all neurons's activity throughout the trials\n",
        "X = np.reshape(neural_recordings, (n_trials,-1))\n",
        "\n",
        "# initalize the model\n",
        "my_naive_model = linear_model.LinearRegression()\n",
        "\n",
        "#fit\n",
        "my_naive_model.fit(X, decisions)\n",
        "\n",
        "# And see how we did on our data set,\n",
        "print(\"R2 was\",my_naive_model.score(X,decisions))"
      ],
      "execution_count": 5,
      "outputs": [
        {
          "output_type": "stream",
          "name": "stdout",
          "text": [
            "R2 was 1.0\n"
          ]
        }
      ]
    },
    {
      "cell_type": "markdown",
      "metadata": {
        "id": "aATf_EwnnQyC"
      },
      "source": [
        "**Looks great!** \n",
        "\n",
        "#### Exercise 1.1: \n",
        "Now, suppose you release your decoder in the world. Will it work? Can't be better than perfect, right?\n",
        "\n",
        "Create some new data and use the `score` function to see the $R^2$ of your model on new data."
      ]
    },
    {
      "cell_type": "code",
      "metadata": {
        "id": "3OmY3-jDnWjR",
        "outputId": "c21afda0-46fd-411a-f836-52226c0fb22c",
        "colab": {
          "base_uri": "https://localhost:8080/",
          "height": 0
        }
      },
      "source": [
        "# Let's do new electrophysiology and take new data. This cost $2,000,000 in \n",
        "# NIH funding so it better work.\n",
        "new_neural_recordings, new_decisions = generate_neural_data(n_trials, \n",
        "                                             n_neurons, n_bins_per_trial)\n",
        "new_X = np.reshape(new_neural_recordings, (n_trials,-1))\n",
        "\n",
        "\n",
        "# Now you: score the model on this new data\n",
        "print(\"R2 was\",my_naive_model.score(new_X,new_decisions))"
      ],
      "execution_count": 6,
      "outputs": [
        {
          "output_type": "stream",
          "name": "stdout",
          "text": [
            "R2 was 0.39845421246108115\n"
          ]
        }
      ]
    },
    {
      "cell_type": "markdown",
      "metadata": {
        "id": "iBrTBP3oZ16v"
      },
      "source": [
        "#### Exercise 1.2: \n",
        "You may have noticed that we're using linear *regression*, even though we have a classification problem.\n",
        "It'd be better to use logistic regression. \n",
        "\n",
        "Fit and score this logistic regression method using your original data.\n",
        "\n",
        "Then, also score this method with the new data you just obtained with your R01 funds. (That is, print both the test and train accuracy.)"
      ]
    },
    {
      "cell_type": "code",
      "metadata": {
        "id": "C13c7lGIYZZa",
        "outputId": "5d715227-2d1a-47ee-a068-2d1683ed7a41",
        "colab": {
          "base_uri": "https://localhost:8080/",
          "height": 0
        }
      },
      "source": [
        "# initalize the model\n",
        "log_reg = linear_model.LogisticRegression(penalty='none', solver = 'lbfgs',\n",
        "                                          max_iter = 1000)\n",
        "\n",
        "# fit\n",
        "log_reg.fit(new_X, new_decisions)\n",
        "\n",
        "# And see how we did on our data set,\n",
        "print(\"R2 was\",log_reg.score(new_X,new_decisions))"
      ],
      "execution_count": 7,
      "outputs": [
        {
          "output_type": "stream",
          "name": "stdout",
          "text": [
            "R2 was 1.0\n"
          ]
        }
      ]
    },
    {
      "cell_type": "markdown",
      "metadata": {
        "id": "aYdsXI596Gck"
      },
      "source": [
        "Once you've completed that, just run this next cell. \n",
        "\n",
        "It shows the coefficients of the fit you just made. Does it match your intuitions? "
      ]
    },
    {
      "cell_type": "code",
      "metadata": {
        "id": "dMYFYr5VzPXy"
      },
      "source": [
        "\n",
        "def plot_coefs(fit_model):\n",
        "  \"\"\"Makes a nice plot of the coefficients. fit_model is the model instance after fitting.\"\"\"\n",
        "  # get the coefficients of your fit\n",
        "  coefficients = fit_model.coef_.reshape(n_neurons, n_bins_per_trial)\n",
        "\n",
        "  # show them\n",
        "  plt.figure(figsize = (10,5))\n",
        "  plt.imshow(coefficients, cmap = 'coolwarm', vmin = -np.max(coefficients), \n",
        "                                              vmax = np.max(coefficients))\n",
        "\n",
        "  #make it pretty\n",
        "  plt.ylabel(\"Neuron #\", fontsize = 14)\n",
        "  plt.xlabel(\"Time (ms)\", fontsize = 14)\n",
        "  plt.colorbar(orientation = 'horizontal', shrink = .6, \n",
        "               label=\"Contribution of bin to decision; its 'Vote' towards a positive decision.\")\n",
        "  plt.tight_layout()\n",
        "  plt.show()\n",
        "  \n",
        "plot_coefs(log_reg)"
      ],
      "execution_count": null,
      "outputs": []
    },
    {
      "cell_type": "markdown",
      "metadata": {
        "id": "ED41_d9dniIE",
        "pycharm": {
          "name": "#%% md\n"
        }
      },
      "source": [
        "## 2. Crossvalidation\n",
        "\n",
        "We saw in the last section that if we used all of our training data to fit a method, we have no idea how our method will work\n",
        "on new data. This a problem for any engineering purpose.\n",
        "\n",
        "We also have no idea if our coefficients are meaningful or reflect random noise in the data. This is a problem for the science.\n",
        "\n",
        "The way to address this problem is to **split your data into a training segment and a validation segment**. We'll try an 80%/20% split."
      ]
    },
    {
      "cell_type": "code",
      "execution_count": 9,
      "outputs": [],
      "source": [
        "split = int(n_trials*4/5)\n"
      ],
      "metadata": {
        "pycharm": {
          "name": "#%%\n"
        },
        "id": "xBTXVC-9TkWM"
      }
    },
    {
      "cell_type": "code",
      "execution_count": 30,
      "outputs": [
        {
          "output_type": "stream",
          "name": "stdout",
          "text": [
            "[44, 153, 249, 23, 112, 248, 205, 242, 169, 107, 187, 199, 122, 222, 5, 146, 38, 61, 130, 124, 110, 150, 178, 9, 58, 111, 40, 24, 152, 20, 181, 87, 142, 116, 182, 145, 117, 0, 62, 85, 50, 48, 19, 82, 138, 241, 69, 180, 183, 206, 90, 192, 78, 66, 196, 94, 113, 41, 21, 56, 177, 219, 47, 214, 127, 201, 101, 213, 132, 81, 37, 84, 46, 191, 17, 32, 49, 168, 95, 149, 202, 118, 54, 1, 63, 224, 10, 171, 159, 226, 156, 74, 109, 29, 243, 143, 220, 230, 189, 30, 144, 88, 247, 98, 215, 39, 165, 45, 120, 190, 99, 35, 223, 114, 126, 212, 129, 179, 97, 221, 167, 203, 139, 51, 173, 194, 42, 55, 197, 16, 105, 184, 227, 104, 137, 163, 31, 36, 75, 73, 70, 209, 53, 77, 102, 136, 237, 151, 218, 60, 33, 164, 100, 160, 198, 141, 135, 239, 244, 174, 147, 72, 83, 158, 204, 200, 71, 68, 176, 123, 166, 229, 3, 106, 79, 27, 225, 140, 193, 28, 25, 11, 240, 92, 22, 161, 13, 175, 208, 18, 207, 232, 108, 185, 157, 228, 170, 231, 134, 4]\n",
            "\n",
            "\n",
            "[  2   6   7   8  12  14  15  26  34  43  52  57  59  64  65  67  76  80\n",
            "  86  89  91  93  96 103 115 119 121 125 128 131 133 148 154 155 162 172\n",
            " 186 188 195 210 211 216 217 233 234 235 236 238 245 246]\n"
          ]
        }
      ],
      "source": [
        "idxtrain = random.sample(range(0, n_trials), split)\n",
        "idxval = np.setdiff1d(range(0, n_trials), idxtrain)\n",
        "print(idxtrain)\n",
        "print('\\n')\n",
        "print(idxval)"
      ],
      "metadata": {
        "pycharm": {
          "name": "#%%\n"
        },
        "id": "x_oCkCiaTkWN",
        "outputId": "a71152cb-0f6e-418c-8cfc-6fef69957b35",
        "colab": {
          "base_uri": "https://localhost:8080/"
        }
      }
    },
    {
      "cell_type": "code",
      "execution_count": 32,
      "outputs": [],
      "source": [
        "training_data = new_neural_recordings[idxtrain,:,:]\n",
        "validation_data = new_neural_recordings[idxval,:,:]\n",
        "\n",
        "training_decisions = new_decisions[idxtrain]\n",
        "validation_decisions = new_decisions[idxval]\n",
        "\n",
        "new_X_cv = np.reshape(training_data, (split,-1))"
      ],
      "metadata": {
        "pycharm": {
          "name": "#%%\n"
        },
        "id": "rB5d9to3TkWO"
      }
    },
    {
      "cell_type": "code",
      "execution_count": null,
      "outputs": [],
      "source": [
        "training_data[1:2,:]"
      ],
      "metadata": {
        "pycharm": {
          "name": "#%%\n"
        },
        "id": "tYA-E-8_TkWO"
      }
    },
    {
      "cell_type": "code",
      "metadata": {
        "id": "Xii4Ow-nAQVV",
        "colab": {
          "base_uri": "https://localhost:8080/"
        },
        "outputId": "71170efa-ebfa-4691-87fc-bce929bd9065"
      },
      "source": [
        "# fit on the training data. (Don't forget to reinitialize your decoder first.)\n",
        "\n",
        "# initalize the model\n",
        "log_reg = linear_model.LogisticRegression(penalty='none', solver = 'lbfgs',\n",
        "                                          max_iter = 1000)\n",
        "# fit\n",
        "log_reg.fit(new_X_cv, training_decisions)\n",
        "\n",
        "# fit and score on training\n",
        "print(\"R2 was\",log_reg.score(new_X_cv,training_decisions))\n"
      ],
      "execution_count": 33,
      "outputs": [
        {
          "output_type": "stream",
          "name": "stdout",
          "text": [
            "R2 was 1.0\n"
          ]
        }
      ]
    },
    {
      "cell_type": "markdown",
      "metadata": {
        "id": "Bo94tWYoAQbF"
      },
      "source": [
        "But right now we're only testing on 20% of the data! Small data means high variance, so maybe we can't trust these scores much.\n",
        "\n",
        "A common practice is therefore to perform __k-fold crossvalidation__. This just means we rotate which segment of the original data is the validation set. We can then average the scores."
      ]
    },
    {
      "cell_type": "code",
      "metadata": {
        "id": "CK6-aoITAQel"
      },
      "source": [
        "# Just run this.\n",
        "def get_test_train_splits(data, decisions, n_folds=5):\n",
        "  \"\"\"\n",
        "  Returns a tuple of matched train sets and validation sets, rotating through the data.\n",
        "  \n",
        "  Note that there are scikit-learn functions that do this, too.\"\"\"\n",
        "  \n",
        "  fold_size = len(data)//n_folds\n",
        "  \n",
        "  training_sets = [np.roll(data,fold_size*i, axis=0)[fold_size:] for i in range(n_folds)]\n",
        "  val_sets = [np.roll(data,fold_size*i, axis=0)[:fold_size] for i in range(n_folds)]\n",
        "  \n",
        "  training_Y = [np.roll(decisions,fold_size*i, axis=0)[fold_size:] for i in range(n_folds)]\n",
        "  val_Y = [np.roll(decisions,fold_size*i, axis=0)[:fold_size] for i in range(n_folds)]\n",
        "  \n",
        "\n",
        "  return (training_sets, training_Y), (val_sets, val_Y)"
      ],
      "execution_count": 34,
      "outputs": []
    },
    {
      "cell_type": "markdown",
      "metadata": {
        "id": "0EVx8pdAI7aB"
      },
      "source": [
        "#### Excercise 2\n",
        "\n",
        "Fill out the missing gaps in the script below. \n"
      ]
    },
    {
      "cell_type": "code",
      "metadata": {
        "id": "j3KLNF9vGDnb",
        "colab": {
          "base_uri": "https://localhost:8080/",
          "height": 1000
        },
        "outputId": "331ff1e4-2016-4acb-ceac-6bcad9189679"
      },
      "source": [
        "(training_sets, training_Ys), (val_sets, val_Ys) = get_test_train_splits(X, decisions)\n",
        "\n",
        "scores = []\n",
        "\n",
        "# Iterate through the k=5 folds\n",
        "for fold in range(5):\n",
        "  print(\"Fold {} of 5\".format(fold))\n",
        "  \n",
        "  training_X = training_sets[fold]\n",
        "  training_Y = training_Ys[fold]\n",
        "  \n",
        "  validation_X = val_sets[fold]\n",
        "  validation_Y = val_Ys[fold]\n",
        "  \n",
        "  # Redefine the logistic regression model. (important to do this inside the loop)\n",
        "  this_model = linear_model.LogisticRegression(penalty='none', solver = 'lbfgs',\n",
        "                                               max_iter = 1000)\n",
        "  # fit and score on training\n",
        "  this_model.fit(training_X, training_Y)\n",
        "  this_model.score(training_X,training_Y)\n",
        "\n",
        "  # score on the validation data\n",
        "  this_accuracy = this_model.score(validation_X,validation_Y)\n",
        "  scores.append(this_accuracy)\n",
        "  \n",
        "  # score on the new dataset (new_X, new_decisions from above)\n",
        "  accuracy_on_test_data = this_model.score(new_X,new_decisions)\n",
        "  \n",
        "  print(\"   Validation accuracy of {}\".format( this_accuracy ))\n",
        "  print(\"   True test set accuracy of {}\".format( accuracy_on_test_data ))\n",
        "  plot_coefs(this_model)\n",
        "  \n",
        "print(\"Mean validation accuracy: {}\".format(np.mean(scores)))"
      ],
      "execution_count": 35,
      "outputs": [
        {
          "output_type": "stream",
          "name": "stdout",
          "text": [
            "Fold 0 of 5\n",
            "   Validation accuracy of 0.94\n",
            "   True test set accuracy of 0.912\n"
          ]
        },
        {
          "output_type": "display_data",
          "data": {
            "image/png": "[encoded data removed]",
            "text/plain": [
              "<Figure size 720x360 with 2 Axes>"
            ]
          },
          "metadata": {
            "needs_background": "light"
          }
        },
        {
          "output_type": "stream",
          "name": "stdout",
          "text": [
            "Fold 1 of 5\n",
            "   Validation accuracy of 0.96\n",
            "   True test set accuracy of 0.888\n"
          ]
        },
        {
          "output_type": "display_data",
          "data": {
            "image/png": "[encoded data removed]",
            "text/plain": [
              "<Figure size 720x360 with 2 Axes>"
            ]
          },
          "metadata": {
            "needs_background": "light"
          }
        },
        {
          "output_type": "stream",
          "name": "stdout",
          "text": [
            "Fold 2 of 5\n",
            "   Validation accuracy of 0.86\n",
            "   True test set accuracy of 0.9\n"
          ]
        },
        {
          "output_type": "display_data",
          "data": {
            "image/png": "[encoded data removed]",
            "text/plain": [
              "<Figure size 720x360 with 2 Axes>"
            ]
          },
          "metadata": {
            "needs_background": "light"
          }
        },
        {
          "output_type": "stream",
          "name": "stdout",
          "text": [
            "Fold 3 of 5\n",
            "   Validation accuracy of 0.92\n",
            "   True test set accuracy of 0.876\n"
          ]
        },
        {
          "output_type": "display_data",
          "data": {
            "image/png": "[encoded data removed]",
            "text/plain": [
              "<Figure size 720x360 with 2 Axes>"
            ]
          },
          "metadata": {
            "needs_background": "light"
          }
        },
        {
          "output_type": "stream",
          "name": "stdout",
          "text": [
            "Fold 4 of 5\n",
            "   Validation accuracy of 0.92\n",
            "   True test set accuracy of 0.9\n"
          ]
        },
        {
          "output_type": "display_data",
          "data": {
            "image/png": "[encoded data removed]",
            "text/plain": [
              "<Figure size 720x360 with 2 Axes>"
            ]
          },
          "metadata": {
            "needs_background": "light"
          }
        },
        {
          "output_type": "stream",
          "name": "stdout",
          "text": [
            "Mean validation accuracy: 0.9199999999999999\n"
          ]
        }
      ]
    },
    {
      "cell_type": "markdown",
      "metadata": {
        "id": "ItAke3ZhGDpt"
      },
      "source": [
        "How close is the validation accuracy to the test set accuracy? \n",
        "\n",
        "How much did using 80% of the data affect the test set accuracy?\n",
        "\n",
        "## 3. Regularization\n",
        "\n",
        "Here we'll apply regularization, as talked about in the lecture.\n",
        "\n",
        "\n",
        "#### Exercise 3.1\n",
        "\n",
        "Go to the [scikit-learn docs](https://scikit-learn.org/stable/modules/linear_model.html#logistic-regression) and decide which form of regularization you would like to use with logistic regression.\n",
        "\n",
        "#### Exercise 3.2\n",
        "\n",
        "Copy and paste the cell from _Excercise 2_, but this time change the `penalty` flag in the `LogisticRegression` call to the form of regularization you chose. \n",
        "\n",
        "\n",
        "First all other default parameters. Then set `C=1e-6` and see what happens.\n"
      ]
    },
    {
      "cell_type": "code",
      "metadata": {
        "id": "rkVb9JB3GDrq",
        "outputId": "cd0e3acc-6492-4135-e114-3da4792294b3",
        "colab": {
          "base_uri": "https://localhost:8080/",
          "height": 1000
        }
      },
      "source": [
        "# copy, paste, and regularize Exercise 2\n",
        "\n",
        "\n",
        "(training_sets, training_Ys), (val_sets, val_Ys) = get_test_train_splits(X, decisions)\n",
        "\n",
        "scores = []\n",
        "\n",
        "# Iterate through the k=5 folds\n",
        "for fold in range(5):\n",
        "    print(\"Fold {} of 5\".format(fold))\n",
        "\n",
        "    training_X = training_sets[fold]\n",
        "    training_Y = training_Ys[fold]\n",
        "\n",
        "    validation_X = val_sets[fold]\n",
        "    validation_Y = val_Ys[fold]\n",
        "\n",
        "    # Redefine the logistic regression model. (important to do this inside the loop)\n",
        "    this_model = linear_model.LogisticRegression(penalty='l2', solver = 'lbfgs',\n",
        "                                                 max_iter = 1000, C=1e-6)\n",
        "    # fit and score on training\n",
        "    this_model.fit(training_X, training_Y)\n",
        "    this_model.score(training_X,training_Y)\n",
        "\n",
        "    # score on the validation data\n",
        "    this_accuracy = this_model.score(validation_X,validation_Y)\n",
        "    scores.append(this_accuracy)\n",
        "\n",
        "    # score on the new dataset (new_X, new_decisions from above)\n",
        "    accuracy_on_test_data = this_model.score(new_X,new_decisions)\n",
        "\n",
        "    print(\"   Validation accuracy of {}\".format( this_accuracy ))\n",
        "    print(\"   True test set accuracy of {}\".format( accuracy_on_test_data ))\n",
        "    plot_coefs(this_model)\n",
        "\n",
        "print(\"Mean validation accuracy: {}\".format(np.mean(scores)))"
      ],
      "execution_count": 44,
      "outputs": [
        {
          "output_type": "stream",
          "name": "stdout",
          "text": [
            "Fold 0 of 5\n",
            "   Validation accuracy of 0.9\n",
            "   True test set accuracy of 0.892\n"
          ]
        },
        {
          "output_type": "display_data",
          "data": {
            "image/png": "[encoded data removed]",
            "text/plain": [
              "<Figure size 720x360 with 2 Axes>"
            ]
          },
          "metadata": {
            "needs_background": "light"
          }
        },
        {
          "output_type": "stream",
          "name": "stdout",
          "text": [
            "Fold 1 of 5\n",
            "   Validation accuracy of 0.94\n",
            "   True test set accuracy of 0.9\n"
          ]
        },
        {
          "output_type": "display_data",
          "data": {
            "image/png": "[encoded data removed]",
            "text/plain": [
              "<Figure size 720x360 with 2 Axes>"
            ]
          },
          "metadata": {
            "needs_background": "light"
          }
        },
        {
          "output_type": "stream",
          "name": "stdout",
          "text": [
            "Fold 2 of 5\n",
            "   Validation accuracy of 0.92\n",
            "   True test set accuracy of 0.912\n"
          ]
        },
        {
          "output_type": "display_data",
          "data": {
            "image/png": "[encoded data removed]",
            "text/plain": [
              "<Figure size 720x360 with 2 Axes>"
            ]
          },
          "metadata": {
            "needs_background": "light"
          }
        },
        {
          "output_type": "stream",
          "name": "stdout",
          "text": [
            "Fold 3 of 5\n",
            "   Validation accuracy of 0.92\n",
            "   True test set accuracy of 0.9\n"
          ]
        },
        {
          "output_type": "display_data",
          "data": {
            "image/png": "[encoded data removed]",
            "text/plain": [
              "<Figure size 720x360 with 2 Axes>"
            ]
          },
          "metadata": {
            "needs_background": "light"
          }
        },
        {
          "output_type": "stream",
          "name": "stdout",
          "text": [
            "Fold 4 of 5\n",
            "   Validation accuracy of 0.86\n",
            "   True test set accuracy of 0.888\n"
          ]
        },
        {
          "output_type": "display_data",
          "data": {
            "image/png": "[encoded data removed]",
            "text/plain": [
              "<Figure size 720x360 with 2 Axes>"
            ]
          },
          "metadata": {
            "needs_background": "light"
          }
        },
        {
          "output_type": "stream",
          "name": "stdout",
          "text": [
            "Mean validation accuracy: 0.908\n"
          ]
        }
      ]
    },
    {
      "cell_type": "markdown",
      "metadata": {
        "id": "fBksWszaLgi5"
      },
      "source": [
        "#### Exercise 3.3: Choose the best regularization penalty\n",
        "\n",
        "Let's automate the above process so that we can choose the best performing value of `C`.\n",
        "\n",
        "First, write a function (largely copy and paste from the last exercise) that returns the mean validation accuracy for\n",
        "an arbitrary value of `C`."
      ]
    },
    {
      "cell_type": "code",
      "metadata": {
        "id": "UXsa18cbqt67"
      },
      "source": [
        "# First complete this function that takes data (e.g. X) \n",
        "# and a model, and returns the average validation accuracy from 5-fold CV\n",
        "# (Largely copy and past from above, but deleting print statements)\n",
        "def get_kfold_validation_score(data, decisions, C):\n",
        "  (training_sets, training_Ys), (val_sets, val_Ys) = get_test_train_splits(data, decisions)\n",
        "\n",
        "  scores = []\n",
        "\n",
        "# Iterate through the k=5 folds\n",
        "  for fold in range(5):\n",
        "    training_X = training_sets[fold]\n",
        "    training_Y = training_Ys[fold]\n",
        "\n",
        "    validation_X = val_sets[fold]\n",
        "    validation_Y = val_Ys[fold]\n",
        "\n",
        "    # Redefine the logistic regression model. (important to do this inside the loop)\n",
        "    this_model = linear_model.LogisticRegression(penalty='l2', solver = 'lbfgs',\n",
        "                                                max_iter = 1000, C=C)\n",
        "    # fit and score on training\n",
        "    this_model.fit(training_X, training_Y)\n",
        "    this_model.score(training_X,training_Y)\n",
        "\n",
        "    # score on the validation data\n",
        "    this_accuracy = this_model.score(validation_X,validation_Y)\n",
        "    scores.append(this_accuracy)\n",
        "\n",
        "    # score on the new dataset (new_X, new_decisions from above)\n",
        "    accuracy_on_test_data = this_model.score(new_X,new_decisions)  \n",
        "\n",
        "    \n",
        "  \n",
        "  return np.mean(scores)"
      ],
      "execution_count": 43,
      "outputs": []
    },
    {
      "cell_type": "markdown",
      "metadata": {
        "id": "7QFQQAj-rFIF"
      },
      "source": [
        "Now let's create a loop for various values of `C` and see what's the best.\n"
      ]
    },
    {
      "cell_type": "code",
      "metadata": {
        "id": "4cobrMeXLgoZ"
      },
      "source": [
        "# decide on a logarithmic schedule of Cs. \n",
        "Cs_to_test = [1e-6, 1e-5, 1e-4, 1e-3, 1e-2, 1e-1, 1, 1e1]\n",
        "\n",
        "validation_accuracy_vs_C = []\n",
        "for C in Cs_to_test:\n",
        "  \n",
        "  # get the mean score on k-fold cross-validation using your function above\n",
        "  mean_validation_accuracy = get_kfold_validation_score(X, decisions, C)\n",
        "  \n",
        "  validation_accuracy_vs_C.append(mean_validation_accuracy)\n",
        "  \n",
        "  "
      ],
      "execution_count": null,
      "outputs": []
    },
    {
      "cell_type": "code",
      "metadata": {
        "id": "30dujMtRNSFP",
        "colab": {
          "base_uri": "https://localhost:8080/",
          "height": 310
        },
        "outputId": "6d959fa7-988d-44ac-a1a3-c84cc892b77c"
      },
      "source": [
        "# Now plot the lists you just made. (Just run this.)\n",
        "plt.semilogx(Cs_to_test, validation_accuracy_vs_C,\"o-\")\n",
        "plt.xlabel(\"C\",fontsize=16)\n",
        "plt.ylabel(\"validation acc.\",fontsize=16)\n",
        "plt.ylim([.8,1])"
      ],
      "execution_count": 48,
      "outputs": [
        {
          "output_type": "execute_result",
          "data": {
            "text/plain": [
              "(0.8, 1.0)"
            ]
          },
          "metadata": {},
          "execution_count": 48
        },
        {
          "output_type": "display_data",
          "data": {
            "image/png": "[encoded data removed]",
            "text/plain": [
              "<Figure size 432x288 with 1 Axes>"
            ]
          },
          "metadata": {
            "needs_background": "light"
          }
        }
      ]
    },
    {
      "cell_type": "code",
      "metadata": {
        "id": "KiuHUp2QSqvy"
      },
      "source": [
        ""
      ],
      "execution_count": null,
      "outputs": []
    },
    {
      "cell_type": "markdown",
      "metadata": {
        "id": "zaPCPWdJSqSf"
      },
      "source": [
        "## 4. Applying recurrent neural networks\n",
        "\n",
        "This section is going to be a bit of an introduction to our [python package for neural decoding](https://github.com/KordingLab/Neural_Decoding).\n",
        "\n",
        "First let's install the package. This will also install all the dependencies we need."
      ]
    },
    {
      "cell_type": "code",
      "metadata": {
        "id": "nIwIoxB3SqSg",
        "outputId": "33ebedc4-ab9c-4e97-dc68-1bc6a58fc9e3",
        "colab": {
          "base_uri": "https://localhost:8080/"
        }
      },
      "source": [
        "!pip install Neural-Decoding --upgrade"
      ],
      "execution_count": 16,
      "outputs": [
        {
          "output_type": "stream",
          "name": "stdout",
          "text": [
            "Collecting Neural-Decoding\n",
            "  Downloading Neural_Decoding-0.1.5-py3-none-any.whl (18 kB)\n",
            "Requirement already satisfied: numpy>=1.16.3 in /usr/local/lib/python3.7/dist-packages (from Neural-Decoding) (1.19.5)\n",
            "Installing collected packages: Neural-Decoding\n",
            "Successfully installed Neural-Decoding-0.1.5\n"
          ]
        }
      ]
    },
    {
      "cell_type": "code",
      "metadata": {
        "id": "n7R8Wu-iSqSk",
        "outputId": "11e38b45-d9a8-4001-d528-ba6745665bdd",
        "colab": {
          "base_uri": "https://localhost:8080/"
        }
      },
      "source": [
        "from Neural_Decoding import decoders\n",
        "\n",
        "import warnings\n",
        "warnings.filterwarnings('ignore')"
      ],
      "execution_count": 17,
      "outputs": [
        {
          "output_type": "stream",
          "name": "stderr",
          "text": [
            "/usr/local/lib/python3.7/dist-packages/statsmodels/tools/_testing.py:19: FutureWarning: pandas.util.testing is deprecated. Use the functions in the public API at pandas.testing instead.\n",
            "  import pandas.util.testing as tm\n"
          ]
        }
      ]
    },
    {
      "cell_type": "markdown",
      "metadata": {
        "id": "mNRHoZ8kSqSm"
      },
      "source": [
        "Let's take a look at the documentation of the decoder we'll use."
      ]
    },
    {
      "cell_type": "code",
      "metadata": {
        "id": "PfPChxogSqSo"
      },
      "source": [
        "# Run me\n",
        "?decoders.SimpleRNNClassification"
      ],
      "execution_count": 49,
      "outputs": []
    },
    {
      "cell_type": "code",
      "metadata": {
        "id": "CWLHbPsR_-rb"
      },
      "source": [
        "?decoders.SimpleRNNClassification.fit"
      ],
      "execution_count": null,
      "outputs": []
    },
    {
      "cell_type": "markdown",
      "metadata": {
        "id": "sLQd5QKsaKdz"
      },
      "source": [
        "You'll notice that the shape of the training inputs is now **3-dimensional**. This is because we can now explitly model the effect of time! Hooray! \n",
        "\n",
        "Recall that recurrent neural networks contain a \"hidden state\". The way this decoder works is that it reads all the neural activities in at the first time bin (out of `n_time_bins`) and then updates its hidden state accordingly. The value of this hidden state informs how the hidden state will evolve over time in each trial. After the hidden state updates `n_time_bin` times, it outputs its prediction for the animal's choice.\n",
        "\n",
        "\n",
        "Lets apply this classifier to the data."
      ]
    },
    {
      "cell_type": "code",
      "metadata": {
        "id": "ZGDcn7g6AVeN",
        "colab": {
          "base_uri": "https://localhost:8080/"
        },
        "outputId": "a2855efa-e3a7-41b8-ef1c-3e93a2af6a1f"
      },
      "source": [
        "# lets re-split our original 3-dimensional trials/neurons/time input data.\n",
        "split = int(n_trials*4/5)\n",
        "\n",
        "training_data = neural_recordings[:split]\n",
        "validation_data = neural_recordings[split:]\n",
        "\n",
        "training_decisions = decisions[:split]\n",
        "validation_decisions = decisions[split:]\n",
        "\n",
        "training_data = np.swapaxes(training_data, 1, 2)\n",
        "validation_data = np.swapaxes(validation_data, 1, 2)\n",
        "\n",
        "print(\"Training input data is of shape\", training_data.shape)\n",
        "print(\"Validation input data is of shape\", validation_data.shape)\n"
      ],
      "execution_count": 50,
      "outputs": [
        {
          "output_type": "stream",
          "name": "stdout",
          "text": [
            "Training input data is of shape (200, 50, 10)\n",
            "Validation input data is of shape (50, 50, 10)\n"
          ]
        }
      ]
    },
    {
      "cell_type": "code",
      "metadata": {
        "id": "D5CLevam9m6N"
      },
      "source": [
        "\n",
        "# first we instantiate the decoder\n",
        "my_RNN_classifier = decoders.SimpleRNNClassification(units = 50,\n",
        "                                                    dropout = 0,\n",
        "                                                    num_epochs =250,\n",
        "                                                    verbose = 1)"
      ],
      "execution_count": 21,
      "outputs": []
    },
    {
      "cell_type": "code",
      "metadata": {
        "id": "g2V2ttwE-SG9"
      },
      "source": [
        "# now we fit to our training data, like before\n",
        "my_RNN_classifier.fit(training_data, training_decisions)"
      ],
      "execution_count": null,
      "outputs": []
    },
    {
      "cell_type": "code",
      "metadata": {
        "id": "p7kc5I2xB5ya",
        "colab": {
          "base_uri": "https://localhost:8080/"
        },
        "outputId": "a369575c-628e-4b67-a05a-73aa890b3b4f"
      },
      "source": [
        "# predict on the validation data\n",
        "predictions = my_RNN_classifier.predict(validation_data)\n",
        "predictions"
      ],
      "execution_count": 23,
      "outputs": [
        {
          "output_type": "execute_result",
          "data": {
            "text/plain": [
              "array([1, 1, 1, 0, 0, 0, 1, 0, 1, 1, 0, 1, 0, 1, 0, 0, 1, 0, 1, 1, 0, 0,\n",
              "       1, 1, 1, 0, 1, 0, 1, 1, 1, 0, 1, 1, 1, 0, 1, 1, 0, 0, 0, 0, 1, 0,\n",
              "       0, 0, 0, 0, 0, 1])"
            ]
          },
          "metadata": {},
          "execution_count": 23
        }
      ]
    },
    {
      "cell_type": "markdown",
      "metadata": {
        "id": "l9ihnQ0zHS6Z"
      },
      "source": [
        "##### Excercise 4.0\n",
        "\n",
        "Get the percentage of the predictions that were made correctly."
      ]
    },
    {
      "cell_type": "code",
      "metadata": {
        "id": "vZyVFSJDF6hD",
        "colab": {
          "base_uri": "https://localhost:8080/"
        },
        "outputId": "ad517c15-4b19-457a-cec0-4e347d4fc8e5"
      },
      "source": [
        "#my_RNN_classifier.score(validation_data, validation_decisions)\n",
        "accuracy = np.sum(predictions == validation_decisions) / len(predictions)\n",
        "print(accuracy)\n"
      ],
      "execution_count": 56,
      "outputs": [
        {
          "output_type": "stream",
          "name": "stdout",
          "text": [
            "0.84\n"
          ]
        }
      ]
    },
    {
      "cell_type": "markdown",
      "metadata": {
        "id": "MUU4_IKwGh4n"
      },
      "source": [
        "This is not as quite as good as logistic regression yet. There are a lot of parameters to choose for RNNs, and we haven't tried that yet.\n",
        "\n",
        "\n",
        "#### Looking inside the model\n",
        "\n",
        "Within the `my_RNN_classifier` object you just fit, there is an actual Keras model. We can look at it, change its parameters, and use Keras methods."
      ]
    },
    {
      "cell_type": "code",
      "metadata": {
        "id": "J9Z-T3diH9ze",
        "outputId": "262829b5-4141-46bb-962d-a280a23dbbe6",
        "colab": {
          "base_uri": "https://localhost:8080/",
          "height": 253
        }
      },
      "source": [
        "# for example, we can use Keras's in-built method for calculating accuracy\n",
        "from keras.utils import np_utils\n",
        "acc = my_RNN_classifier.model.test_on_batch(validation_data, \n",
        "                                      np_utils.to_categorical(validation_decisions))\n",
        "print(\"Accuracy is {} %\".format(100*acc[1]))"
      ],
      "execution_count": 57,
      "outputs": [
        {
          "output_type": "error",
          "ename": "AttributeError",
          "evalue": "ignored",
          "traceback": [
            "\u001b[0;31m---------------------------------------------------------------------------\u001b[0m",
            "\u001b[0;31mAttributeError\u001b[0m                            Traceback (most recent call last)",
            "\u001b[0;32m<ipython-input-57-6cd421c41e07>\u001b[0m in \u001b[0;36m<module>\u001b[0;34m()\u001b[0m\n\u001b[1;32m      1\u001b[0m \u001b[0;31m# for example, we can use Keras's in-built method for calculating accuracy\u001b[0m\u001b[0;34m\u001b[0m\u001b[0;34m\u001b[0m\u001b[0;34m\u001b[0m\u001b[0m\n\u001b[1;32m      2\u001b[0m \u001b[0;32mfrom\u001b[0m \u001b[0mkeras\u001b[0m\u001b[0;34m.\u001b[0m\u001b[0mutils\u001b[0m \u001b[0;32mimport\u001b[0m \u001b[0mnp_utils\u001b[0m\u001b[0;34m\u001b[0m\u001b[0;34m\u001b[0m\u001b[0m\n\u001b[0;32m----> 3\u001b[0;31m acc = my_RNN_classifier.model.test_on_batch(validation_data, \n\u001b[0m\u001b[1;32m      4\u001b[0m                                       np_utils.to_categorical(validation_decisions))\n\u001b[1;32m      5\u001b[0m \u001b[0mprint\u001b[0m\u001b[0;34m(\u001b[0m\u001b[0;34m\"Accuracy is {} %\"\u001b[0m\u001b[0;34m.\u001b[0m\u001b[0mformat\u001b[0m\u001b[0;34m(\u001b[0m\u001b[0;36m100\u001b[0m\u001b[0;34m*\u001b[0m\u001b[0macc\u001b[0m\u001b[0;34m[\u001b[0m\u001b[0;36m1\u001b[0m\u001b[0;34m]\u001b[0m\u001b[0;34m)\u001b[0m\u001b[0;34m)\u001b[0m\u001b[0;34m\u001b[0m\u001b[0;34m\u001b[0m\u001b[0m\n",
            "\u001b[0;31mAttributeError\u001b[0m: 'SimpleRNNClassification' object has no attribute 'model'"
          ]
        }
      ]
    },
    {
      "cell_type": "markdown",
      "metadata": {
        "id": "IPVi_UFOLOM6"
      },
      "source": [
        "#### Excercise 4.1: Tuning the RNN\n",
        "\n",
        "Train an RNN decoder again, but this time use 1000 hidden units instead of 50."
      ]
    },
    {
      "cell_type": "code",
      "metadata": {
        "id": "i3IIljjbLfRD",
        "outputId": "c671fb60-0470-4201-e454-e6f424f2e65f"
      },
      "source": [
        "#!pip install tensorflow==1.8"
      ],
      "execution_count": null,
      "outputs": [
        {
          "name": "stdout",
          "output_type": "stream",
          "text": [
            "\u001b[31mERROR: Could not find a version that satisfies the requirement tensorflow==1.8 (from versions: 2.5.0rc0, 2.5.0rc1, 2.5.0rc2, 2.5.0rc3, 2.5.0, 2.5.1, 2.5.2, 2.6.0rc0, 2.6.0rc1, 2.6.0rc2, 2.6.0, 2.6.1, 2.6.2, 2.7.0rc0, 2.7.0rc1, 2.7.0)\u001b[0m\r\n",
            "\u001b[31mERROR: No matching distribution found for tensorflow==1.8\u001b[0m\r\n"
          ]
        }
      ]
    },
    {
      "cell_type": "markdown",
      "metadata": {
        "id": "aQSc7xswSqTZ"
      },
      "source": [
        "## 5. Compare many methods on actual neural data\n",
        "\n",
        "### Preliminaries\n",
        "\n",
        "**STOP** Make sure you're running a **GPU runtime** for this section. (Runtime -> Change runtime type). Otherwise running the RNNs will take forever.\n",
        "\n",
        "First we need to download the data. I created a script to download and process the Steinmetz data into the format we need. Since the processing script takes about 15 minutes, we'll skip that step, and you can just download the processed data from my Google Drive.\n",
        "\n",
        "This dataset is specifically `Cori_2016-12-18`. If you're interested in loading a different session, I've copied my downloading and preprocessing script in the bottom of this notebook and you can run it right here."
      ]
    },
    {
      "cell_type": "code",
      "metadata": {
        "id": "u0Wt68jUSqTZ",
        "outputId": "195e8e1a-6ccb-4e75-e887-7e839ce20156",
        "colab": {
          "base_uri": "https://localhost:8080/"
        }
      },
      "source": [
        "!pip install googledrivedownloader\n",
        "\n",
        "from google_drive_downloader import GoogleDriveDownloader as gdd\n",
        "\n",
        "gdd.download_file_from_google_drive(file_id='1W3TwEtC0Z6Qmbfuz8_AWRiQHfuDb9FIS',\n",
        "                                    dest_path='./Binned_data.zip',\n",
        "                                    unzip=True)\n"
      ],
      "execution_count": 58,
      "outputs": [
        {
          "output_type": "stream",
          "name": "stdout",
          "text": [
            "Requirement already satisfied: googledrivedownloader in /usr/local/lib/python3.7/dist-packages (0.4)\n"
          ]
        }
      ]
    },
    {
      "cell_type": "code",
      "metadata": {
        "id": "sARtnvbYSqTe"
      },
      "source": [
        "binned_spikes = np.load('binned_spikes.npy')\n",
        "choices = np.load('choices.npy')+1\n"
      ],
      "execution_count": 59,
      "outputs": []
    },
    {
      "cell_type": "markdown",
      "metadata": {
        "id": "6LQ2cxR-SqTi"
      },
      "source": [
        "### Predicting choices from neural population recordings\n",
        "\n",
        "We're going to try to predict the mouse's choices from the neuropixel recordings in the 1 second preceeding each choice. `binned_spikes.npy` is a numpy array containing the binned spike rates, and `choices.npy` contains the animal's choices. \n",
        "\n",
        "There are 228 trials, 1089 neurons, and 50 bins per trial (for a time of 20ms per bin).\n",
        "\n",
        "This is not a great situation for machine learning. As a rule of thumb, we would like more trials than datapoints per trial. (If doing this for realz, would suggest running PCA on this data and using the top components as inputs). But, it's what we got, so here goes!\n",
        "\n",
        "#### Exercise 5.0\n",
        "\n",
        "Print out the shape of `binned_spikes` and `choices`. Also print out the first 10 choices.\n",
        "\n"
      ]
    },
    {
      "cell_type": "code",
      "metadata": {
        "id": "korkcjUISqTi",
        "colab": {
          "base_uri": "https://localhost:8080/"
        },
        "outputId": "f980d7ca-ca71-4110-aaa1-82c9548426c3"
      },
      "source": [
        "\n",
        "print(binned_spikes.shape, choices.shape)\n",
        "print(choices[:10])"
      ],
      "execution_count": 28,
      "outputs": [
        {
          "output_type": "stream",
          "name": "stdout",
          "text": [
            "(228, 1089, 50) (228,)\n",
            "[2. 2. 0. 0. 0. 1. 0. 0. 0. 2.]\n"
          ]
        }
      ]
    },
    {
      "cell_type": "markdown",
      "metadata": {
        "id": "LNDeXvE_cU94"
      },
      "source": [
        "You'll notice that `choices` takes values 0, 1, and 2. We're going to try to decode this."
      ]
    },
    {
      "cell_type": "markdown",
      "metadata": {
        "id": "VqEcdu4tX6oF"
      },
      "source": [
        "#### Excercise 5.1\n",
        "\n",
        "Split this data into test and validation splits.\n",
        "\n",
        "(We'll skip the final testing phase in this exercise. In reality, make sure to do cross-validation and use both validation and testing data.)"
      ]
    },
    {
      "cell_type": "code",
      "metadata": {
        "id": "RuovaxSOX7Y8"
      },
      "source": [
        "# make training and validation data\n",
        "# Use an 80/20 split.|\n",
        "split = \n",
        "\n",
        "training_spikes = \n",
        "validation_spikes = \n",
        "\n",
        "training_choices = \n",
        "validation_choices ="
      ],
      "execution_count": null,
      "outputs": []
    },
    {
      "cell_type": "markdown",
      "metadata": {
        "id": "H1HVdWFEZrZl"
      },
      "source": [
        "##### A fitting demo.\n",
        "\n",
        "This is basically what we did above, but with actual data."
      ]
    },
    {
      "cell_type": "code",
      "metadata": {
        "id": "LPjqE8_OSqTs",
        "colab": {
          "base_uri": "https://localhost:8080/",
          "height": 235
        },
        "outputId": "a2d03987-e4fa-48b7-96fd-1e511a63b358"
      },
      "source": [
        "\n",
        "my_RNN_classifier = decoders.SimpleRNNClassification(units = 100,\n",
        "                                                    dropout = 0,\n",
        "                                                    num_epochs =10,\n",
        "                                                    verbose = 1)\n",
        "\n",
        "my_RNN_classifier.fit(training_spikes, training_choices)\n",
        "\n",
        "\n",
        "predictions = my_RNN_classifier.predict(validation_spikes)\n",
        "accuracy = np.sum(predictions == validation_choices) / float(len(predictions))\n",
        "\n",
        "print(\"\\n validation accuracy: {} %\".format(100*accuracy))\n"
      ],
      "execution_count": 29,
      "outputs": [
        {
          "output_type": "error",
          "ename": "NameError",
          "evalue": "ignored",
          "traceback": [
            "\u001b[0;31m---------------------------------------------------------------------------\u001b[0m",
            "\u001b[0;31mNameError\u001b[0m                                 Traceback (most recent call last)",
            "\u001b[0;32m<ipython-input-29-0e116cb1d311>\u001b[0m in \u001b[0;36m<module>\u001b[0;34m()\u001b[0m\n\u001b[1;32m      5\u001b[0m                                                     verbose = 1)\n\u001b[1;32m      6\u001b[0m \u001b[0;34m\u001b[0m\u001b[0m\n\u001b[0;32m----> 7\u001b[0;31m \u001b[0mmy_RNN_classifier\u001b[0m\u001b[0;34m.\u001b[0m\u001b[0mfit\u001b[0m\u001b[0;34m(\u001b[0m\u001b[0mtraining_spikes\u001b[0m\u001b[0;34m,\u001b[0m \u001b[0mtraining_choices\u001b[0m\u001b[0;34m)\u001b[0m\u001b[0;34m\u001b[0m\u001b[0;34m\u001b[0m\u001b[0m\n\u001b[0m\u001b[1;32m      8\u001b[0m \u001b[0;34m\u001b[0m\u001b[0m\n\u001b[1;32m      9\u001b[0m \u001b[0;34m\u001b[0m\u001b[0m\n",
            "\u001b[0;31mNameError\u001b[0m: name 'training_spikes' is not defined"
          ]
        }
      ]
    },
    {
      "cell_type": "code",
      "execution_count": null,
      "outputs": [
        {
          "ename": "ImportError",
          "evalue": "Missing optional dependency 'tables'.  Use pip or conda to install tables.",
          "output_type": "error",
          "traceback": [
            "\u001b[0;31m---------------------------------------------------------------------------\u001b[0m",
            "\u001b[0;31mImportError\u001b[0m                               Traceback (most recent call last)",
            "\u001b[0;32m/var/folders/yy/h12l7qbj5zl7tkf1wwcdz_6h0000gs/T/ipykernel_91961/1022334700.py\u001b[0m in \u001b[0;36m<module>\u001b[0;34m\u001b[0m\n\u001b[1;32m      1\u001b[0m \u001b[0;31m#from pandas import 'tables'\u001b[0m\u001b[0;34m\u001b[0m\u001b[0;34m\u001b[0m\u001b[0m\n\u001b[0;32m----> 2\u001b[0;31m \u001b[0mtest\u001b[0m \u001b[0;34m=\u001b[0m \u001b[0mpd\u001b[0m\u001b[0;34m.\u001b[0m\u001b[0mread_hdf\u001b[0m\u001b[0;34m(\u001b[0m\u001b[0;34m'/Users/donwei7/Downloads/Decoding_Data/example_data_hc.h5'\u001b[0m\u001b[0;34m)\u001b[0m\u001b[0;34m\u001b[0m\u001b[0;34m\u001b[0m\u001b[0m\n\u001b[0m",
            "\u001b[0;32m~/opt/anaconda3/envs/neural2/lib/python3.9/site-packages/pandas/io/pytables.py\u001b[0m in \u001b[0;36mread_hdf\u001b[0;34m(path_or_buf, key, mode, errors, where, start, stop, columns, iterator, chunksize, **kwargs)\u001b[0m\n\u001b[1;32m    427\u001b[0m             \u001b[0;32mraise\u001b[0m \u001b[0mFileNotFoundError\u001b[0m\u001b[0;34m(\u001b[0m\u001b[0;34mf\"File {path_or_buf} does not exist\"\u001b[0m\u001b[0;34m)\u001b[0m\u001b[0;34m\u001b[0m\u001b[0;34m\u001b[0m\u001b[0m\n\u001b[1;32m    428\u001b[0m \u001b[0;34m\u001b[0m\u001b[0m\n\u001b[0;32m--> 429\u001b[0;31m         \u001b[0mstore\u001b[0m \u001b[0;34m=\u001b[0m \u001b[0mHDFStore\u001b[0m\u001b[0;34m(\u001b[0m\u001b[0mpath_or_buf\u001b[0m\u001b[0;34m,\u001b[0m \u001b[0mmode\u001b[0m\u001b[0;34m=\u001b[0m\u001b[0mmode\u001b[0m\u001b[0;34m,\u001b[0m \u001b[0merrors\u001b[0m\u001b[0;34m=\u001b[0m\u001b[0merrors\u001b[0m\u001b[0;34m,\u001b[0m \u001b[0;34m**\u001b[0m\u001b[0mkwargs\u001b[0m\u001b[0;34m)\u001b[0m\u001b[0;34m\u001b[0m\u001b[0;34m\u001b[0m\u001b[0m\n\u001b[0m\u001b[1;32m    430\u001b[0m         \u001b[0;31m# can't auto open/close if we are using an iterator\u001b[0m\u001b[0;34m\u001b[0m\u001b[0;34m\u001b[0m\u001b[0m\n\u001b[1;32m    431\u001b[0m         \u001b[0;31m# so delegate to the iterator\u001b[0m\u001b[0;34m\u001b[0m\u001b[0;34m\u001b[0m\u001b[0m\n",
            "\u001b[0;32m~/opt/anaconda3/envs/neural2/lib/python3.9/site-packages/pandas/io/pytables.py\u001b[0m in \u001b[0;36m__init__\u001b[0;34m(self, path, mode, complevel, complib, fletcher32, **kwargs)\u001b[0m\n\u001b[1;32m    570\u001b[0m             \u001b[0;32mraise\u001b[0m \u001b[0mValueError\u001b[0m\u001b[0;34m(\u001b[0m\u001b[0;34m\"format is not a defined argument for HDFStore\"\u001b[0m\u001b[0;34m)\u001b[0m\u001b[0;34m\u001b[0m\u001b[0;34m\u001b[0m\u001b[0m\n\u001b[1;32m    571\u001b[0m \u001b[0;34m\u001b[0m\u001b[0m\n\u001b[0;32m--> 572\u001b[0;31m         \u001b[0mtables\u001b[0m \u001b[0;34m=\u001b[0m \u001b[0mimport_optional_dependency\u001b[0m\u001b[0;34m(\u001b[0m\u001b[0;34m\"tables\"\u001b[0m\u001b[0;34m)\u001b[0m\u001b[0;34m\u001b[0m\u001b[0;34m\u001b[0m\u001b[0m\n\u001b[0m\u001b[1;32m    573\u001b[0m \u001b[0;34m\u001b[0m\u001b[0m\n\u001b[1;32m    574\u001b[0m         \u001b[0;32mif\u001b[0m \u001b[0mcomplib\u001b[0m \u001b[0;32mis\u001b[0m \u001b[0;32mnot\u001b[0m \u001b[0;32mNone\u001b[0m \u001b[0;32mand\u001b[0m \u001b[0mcomplib\u001b[0m \u001b[0;32mnot\u001b[0m \u001b[0;32min\u001b[0m \u001b[0mtables\u001b[0m\u001b[0;34m.\u001b[0m\u001b[0mfilters\u001b[0m\u001b[0;34m.\u001b[0m\u001b[0mall_complibs\u001b[0m\u001b[0;34m:\u001b[0m\u001b[0;34m\u001b[0m\u001b[0;34m\u001b[0m\u001b[0m\n",
            "\u001b[0;32m~/opt/anaconda3/envs/neural2/lib/python3.9/site-packages/pandas/compat/_optional.py\u001b[0m in \u001b[0;36mimport_optional_dependency\u001b[0;34m(name, extra, errors, min_version)\u001b[0m\n\u001b[1;32m    116\u001b[0m     \u001b[0;32mexcept\u001b[0m \u001b[0mImportError\u001b[0m\u001b[0;34m:\u001b[0m\u001b[0;34m\u001b[0m\u001b[0;34m\u001b[0m\u001b[0m\n\u001b[1;32m    117\u001b[0m         \u001b[0;32mif\u001b[0m \u001b[0merrors\u001b[0m \u001b[0;34m==\u001b[0m \u001b[0;34m\"raise\"\u001b[0m\u001b[0;34m:\u001b[0m\u001b[0;34m\u001b[0m\u001b[0;34m\u001b[0m\u001b[0m\n\u001b[0;32m--> 118\u001b[0;31m             \u001b[0;32mraise\u001b[0m \u001b[0mImportError\u001b[0m\u001b[0;34m(\u001b[0m\u001b[0mmsg\u001b[0m\u001b[0;34m)\u001b[0m \u001b[0;32mfrom\u001b[0m \u001b[0;32mNone\u001b[0m\u001b[0;34m\u001b[0m\u001b[0;34m\u001b[0m\u001b[0m\n\u001b[0m\u001b[1;32m    119\u001b[0m         \u001b[0;32melse\u001b[0m\u001b[0;34m:\u001b[0m\u001b[0;34m\u001b[0m\u001b[0;34m\u001b[0m\u001b[0m\n\u001b[1;32m    120\u001b[0m             \u001b[0;32mreturn\u001b[0m \u001b[0;32mNone\u001b[0m\u001b[0;34m\u001b[0m\u001b[0;34m\u001b[0m\u001b[0m\n",
            "\u001b[0;31mImportError\u001b[0m: Missing optional dependency 'tables'.  Use pip or conda to install tables."
          ]
        }
      ],
      "source": [
        "#from pandas import 'tables'\n",
        "test = pd.read_hdf('/Users/donwei7/Downloads/Decoding_Data/example_data_hc.h5')"
      ],
      "metadata": {
        "pycharm": {
          "name": "#%%\n"
        },
        "id": "Ef87Alm4TkWb",
        "outputId": "12bead68-43f2-4e3c-ef82-34aa1be04e87"
      }
    },
    {
      "cell_type": "markdown",
      "metadata": {
        "id": "Bpzpvy6PaKCv"
      },
      "source": [
        "Note that the train accuracy reached about 100% in these 10 epochs, but the validation accuracy is quite low. Sounds like overfitting! We might want to try some regularization, like dropout."
      ]
    },
    {
      "cell_type": "markdown",
      "metadata": {
        "id": "Xma2jUT5SqTx"
      },
      "source": [
        "### Excercise 5.1\n",
        "\n",
        "Fit each of the following decoders:\n",
        "\n",
        "1.   A Gated Recurrent Unit (`decoders.GRUClassification`)\n",
        "2.   An LSTM (`decoders.LSTMClassification`)\n",
        "3.   Gradient boosted trees (XGBoost) (`decoders.XGBoostClassification`)\n",
        "\n",
        "\n",
        "\n"
      ]
    },
    {
      "cell_type": "code",
      "metadata": {
        "id": "GvvopGtKaw0k"
      },
      "source": [
        "# GRU\n",
        "\n"
      ],
      "execution_count": null,
      "outputs": []
    },
    {
      "cell_type": "code",
      "metadata": {
        "id": "kaW868Paaw5C"
      },
      "source": [
        "#LSTM\n"
      ],
      "execution_count": null,
      "outputs": []
    },
    {
      "cell_type": "code",
      "metadata": {
        "id": "jjoE3Qo3aw2n"
      },
      "source": [
        "# XGBoost\n",
        "\n",
        "# XGBoost is powerful but does not model time dependencies.\n",
        "# Like for the logistic regression above, we have to flatten\n",
        "# the inputs into shape (n_trials, n_neurons x n_time_bins)\n",
        "\n",
        "flat_train_data = np.reshape(training_spikes, (len(training_spikes),-1))\n",
        "flat_val_data = np.reshape(validation_spikes, (len(validation_spikes),-1))\n",
        "\n",
        "\n",
        "# now train it like above\n",
        "\n",
        "\n"
      ],
      "execution_count": null,
      "outputs": []
    },
    {
      "cell_type": "markdown",
      "metadata": {
        "id": "mH2-UxhRLJEg"
      },
      "source": [
        "### Extra credit exercise 1: reduce the dimension of data with PCA\n",
        "\n",
        "Create an instance of PCA (loading the module from scikit-learn). Then, fit it on your training data. Then transform both the validation and train data. (Note that we don't fit the PCA using train data.)\n",
        "\n",
        "You can either reduce the dimension across neurons only, preserving temporal structure, or decide to reduce across all dimensions.\n",
        "\n",
        "Does validation accuracy improve?"
      ]
    },
    {
      "cell_type": "markdown",
      "metadata": {
        "id": "8dl5XbyPLdBp"
      },
      "source": [
        "### Extra credit exercise 2: Set up a script to perform k-fold CV\n",
        "\n",
        "Using your favorite methods (e.g. scikit learn) or the script we wrote above, create a method to perform 5-fold cross-validation on the Neuropixels data. The function should take parameters to create a model as input, and it should output the average validation accuracy across the 5 validation sets. "
      ]
    },
    {
      "cell_type": "markdown",
      "metadata": {
        "id": "rEpxVLe431kH"
      },
      "source": [
        "### Extra credit exercise 3: find the best decoder\n",
        "\n",
        "Search across methods and hyperparameters for the best decoder. Try hyperopt, or random searches.\n",
        "\n",
        "If you're fancy and have lots of compute time, maybe try automated ML. (e.g. autosklearn)\n"
      ]
    },
    {
      "cell_type": "markdown",
      "metadata": {
        "id": "ucHs_lBqSqT7"
      },
      "source": [
        "## Appendix: downloading a Neuropixels session and processing"
      ]
    },
    {
      "cell_type": "markdown",
      "metadata": {
        "id": "9jeeJvVLSqT8"
      },
      "source": [
        "This will take about 30 seconds to download the ~600M of data into your working folder, and 10 minutes to run the script."
      ]
    },
    {
      "cell_type": "code",
      "metadata": {
        "id": "SI_K0MRkSqT9"
      },
      "source": [
        "session = \"Cori_2016-12-18/\"\n",
        "\n",
        "!wget -np -r -nv http://data.cortexlab.net/taskData/$session\n",
        "!mv data.cortexlab.net/taskData/ ."
      ],
      "execution_count": null,
      "outputs": []
    },
    {
      "cell_type": "markdown",
      "metadata": {
        "id": "XVpyiQmWSqUB"
      },
      "source": [
        "Now we'll extract this data into Python in the form of a dictionary."
      ]
    },
    {
      "cell_type": "code",
      "metadata": {
        "id": "bKqX75s8SqUB"
      },
      "source": [
        "from tqdm import tqdm as tqdm\n",
        "\n",
        "def load_data(session):\n",
        "    \"\"\"Takes a session in relative path ./taskData and loads it as a dictionary.\"\"\"\n",
        "    files = !ls taskData/$session/*.npy\n",
        "    all_files = {}\n",
        "    for file in files:\n",
        "        filename = file.split(\"/\")[1][:-4]\n",
        "        all_files[filename] = np.load(file)\n",
        "    return all_files\n",
        "  \n",
        "def count_neurons(time_interval, all_files):\n",
        "    \"\"\"In this time interval, return the neurons with nonzero spikes, and how many\n",
        "    \n",
        "    Returns (ids, counts)\n",
        "    \"\"\"\n",
        "    \n",
        "    \n",
        "    t1,t2 = time_interval\n",
        "    \n",
        "    trial_spikes = all_files['spikes.times']\n",
        "\n",
        "    interval = (trial_spikes > t1) & (trial_spikes < t2)\n",
        "\n",
        "    trial_spikes = trial_spikes[interval]\n",
        "    ids = all_files['spikes.clusters'][interval]\n",
        "    \n",
        "    # ids has all the info we need\n",
        "    return np.unique(ids, return_counts = True)\n",
        "    \n",
        "    \n",
        "\n",
        "\n",
        "def bin_into_array(all_files, time_before_response=1, n_bins = 50):\n",
        "    \n",
        "    ids = all_files['spikes.clusters']\n",
        "    idList = np.unique(ids)\n",
        "    \n",
        "    n_trials = len(all_files['trials.response_choice'])\n",
        "    n_neurons = len(idList)\n",
        "    \n",
        "    choices = np.reshape(all_files['trials.response_choice'],-1)\n",
        "    data = np.zeros((n_trials, n_neurons, n_bins))\n",
        "    \n",
        "    time_resolution = time_before_response/ float(n_bins)\n",
        "    \n",
        "    for trial in tqdm(range(n_trials)):\n",
        "        end_time = all_files['trials.response_times'][trial]\n",
        "        start_time = end_time - time_before_response\n",
        "        \n",
        "        data.trial\n",
        "        \n",
        "        for b in range(n_bins):\n",
        "        \n",
        "            which_neurons, n_spikes = count_neurons((start_time + b*time_resolution,\n",
        "                                            start_time + (b+1)*time_resolution),\n",
        "                                          all_files)\n",
        "            \n",
        "            data[trial,which_neurons,b] = n_spikes\n",
        "            \n",
        "    return data, choices\n"
      ],
      "execution_count": null,
      "outputs": []
    },
    {
      "cell_type": "code",
      "metadata": {
        "id": "1kmTWMwSSqUD"
      },
      "source": [
        "session = \"Cori_2016-12-18\"\n",
        "all_files = load_data(session)\n",
        "data, choices = bin_into_array(all_files)"
      ],
      "execution_count": null,
      "outputs": []
    },
    {
      "cell_type": "code",
      "metadata": {
        "id": "HJSdc0siSqUF"
      },
      "source": [
        "#clean up the data we aren't using\n",
        "!rm -r data.cortexlab.net/"
      ],
      "execution_count": null,
      "outputs": []
    }
  ]
}